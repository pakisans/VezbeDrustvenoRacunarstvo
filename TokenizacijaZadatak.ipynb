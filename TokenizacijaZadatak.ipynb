{
  "nbformat": 4,
  "nbformat_minor": 0,
  "metadata": {
    "colab": {
      "name": "Untitled4.ipynb",
      "provenance": [],
      "collapsed_sections": [],
      "authorship_tag": "ABX9TyNGmYwZUEc6tQ+PZ61r4y+E",
      "include_colab_link": true
    },
    "kernelspec": {
      "name": "python3",
      "display_name": "Python 3"
    }
  },
  "cells": [
    {
      "cell_type": "markdown",
      "metadata": {
        "id": "view-in-github",
        "colab_type": "text"
      },
      "source": [
        "<a href=\"https://colab.research.google.com/github/pakisans/VezbeDrustvenoRacunarstvo/blob/main/TokenizacijaZadatak.ipynb\" target=\"_parent\"><img src=\"https://colab.research.google.com/assets/colab-badge.svg\" alt=\"Open In Colab\"/></a>"
      ]
    },
    {
      "cell_type": "code",
      "metadata": {
        "id": "5aOyX_tPUTDm",
        "outputId": "aab09309-2012-4c08-8b88-4b97f53f4e22",
        "colab": {
          "base_uri": "https://localhost:8080/",
          "height": 68
        }
      },
      "source": [
        "import tweepy\n",
        "import numpy\n",
        "import scipy\n",
        "import matplotlib\n",
        "import pandas as pd\n",
        "import nltk\n",
        "from nltk.tokenize import word_tokenize,WordPunctTokenizer,RegexpTokenizer\n",
        "nltk.download('punkt')"
      ],
      "execution_count": null,
      "outputs": [
        {
          "output_type": "stream",
          "text": [
            "[nltk_data] Downloading package punkt to /root/nltk_data...\n",
            "[nltk_data]   Unzipping tokenizers/punkt.zip.\n"
          ],
          "name": "stdout"
        },
        {
          "output_type": "execute_result",
          "data": {
            "text/plain": [
              "True"
            ]
          },
          "metadata": {
            "tags": []
          },
          "execution_count": 9
        }
      ]
    },
    {
      "cell_type": "code",
      "metadata": {
        "id": "Mo08jUVHUWlC"
      },
      "source": [
        "CONSUMER_KEY = 'ugGxx01GJYQUxn0khPxwqpK1F'\n",
        "CONSUMER_SECRET = '5RWzld9NK7iBMd78W6hwzoaZDKtsomZTece0TUzVqHX0JAwyO2'\n",
        "DAUTH_TOKEN = '1311238497643233281-LIE5s4Y3bLhXJvXHaGHHM1IbBoerkY'\n",
        "DAUTH_TOKEN_SECRET = '6Hq9TG4W9smRGMx2TWxGejyMUFhdKO5EsRBphhkFKCs61'"
      ],
      "execution_count": null,
      "outputs": []
    },
    {
      "cell_type": "code",
      "metadata": {
        "id": "jR9WYGnvUa8t"
      },
      "source": [
        ""
      ],
      "execution_count": null,
      "outputs": []
    },
    {
      "cell_type": "code",
      "metadata": {
        "id": "QQcj-3bYUY8I"
      },
      "source": [
        "def auth_connection():\n",
        "  auth = tweepy.OAuthHandler(CONSUMER_KEY,CONSUMER_SECRET)\n",
        "  auth.set_access_token(DAUTH_TOKEN,DAUTH_TOKEN_SECRET)\n",
        "\n",
        "  api = tweepy.API(auth, wait_on_rate_limit = True)\n",
        "  return api"
      ],
      "execution_count": null,
      "outputs": []
    },
    {
      "cell_type": "code",
      "metadata": {
        "id": "iUDNXo5ZUcuI"
      },
      "source": [
        "api = auth_connection()"
      ],
      "execution_count": null,
      "outputs": []
    },
    {
      "cell_type": "code",
      "metadata": {
        "id": "h3H0thNHUeCI"
      },
      "source": [
        "query = \"#euroleague\"\n",
        "tweets = tweepy.Cursor(api.search,q=query,lang=\"en\",since='2020-09-23').items(10)\n",
        "\n",
        "all_tweets = [tweet.text for tweet in tweets]"
      ],
      "execution_count": null,
      "outputs": []
    },
    {
      "cell_type": "code",
      "metadata": {
        "id": "sFz9G-FNU9V9",
        "outputId": "d76d84e1-71fc-4dc6-ca6d-b1a7e4a4bf2f",
        "colab": {
          "base_uri": "https://localhost:8080/",
          "height": 54
        }
      },
      "source": [
        "tokeni = []\n",
        "for tweet in all_tweets:\n",
        "  tokeni.append(word_tokenize(tweet))\n",
        "\n",
        "print(tokeni[0])"
      ],
      "execution_count": null,
      "outputs": [
        {
          "output_type": "stream",
          "text": [
            "['#', 'FridayFun', '#', 'Freebetgiveaway', 'Guess', 'the', 'Number', 'of', 'Free', 'Throws', 'Made', '🏀', '&', 'amp', ';', 'Win', '€3', 'Free', 'Bet', '.', 'For', 'more', 'offers', ':', '…', 'https', ':', '//t.co/HVVNWiK6Hi']\n"
          ],
          "name": "stdout"
        }
      ]
    },
    {
      "cell_type": "code",
      "metadata": {
        "id": "FBX-AZlSVa2j",
        "outputId": "89540737-7a24-4463-bd7f-473bf5dc7819",
        "colab": {
          "base_uri": "https://localhost:8080/",
          "height": 54
        }
      },
      "source": [
        "punct_tokenizer = WordPunctTokenizer()\n",
        "\n",
        "punct_tokeni = []\n",
        "for tweet in all_tweets:\n",
        "  punct_tokeni.append(punct_tokenizer.tokenize(tweet))\n",
        "\n",
        "print(punct_tokeni[0])"
      ],
      "execution_count": null,
      "outputs": [
        {
          "output_type": "stream",
          "text": [
            "['#', 'FridayFun', '#', 'Freebetgiveaway', 'Guess', 'the', 'Number', 'of', 'Free', 'Throws', 'Made', '🏀&', 'amp', ';', 'Win', '€', '3', 'Free', 'Bet', '.', 'For', 'more', 'offers', ':…', 'https', '://', 't', '.', 'co', '/', 'HVVNWiK6Hi']\n"
          ],
          "name": "stdout"
        }
      ]
    },
    {
      "cell_type": "code",
      "metadata": {
        "id": "NYVDYsuBVcQ6",
        "outputId": "d4812f2a-2dce-4dcd-f02f-ec9715201387",
        "colab": {
          "base_uri": "https://localhost:8080/",
          "height": 54
        }
      },
      "source": [
        "re_tokenizer = RegexpTokenizer(\"[\\w]+\")\n",
        "re_tokeni = []\n",
        "for tweet in all_tweets:\n",
        "  re_tokeni.append(re_tokenizer.tokenize(tweet))\n",
        "print(re_tokeni[0])"
      ],
      "execution_count": null,
      "outputs": [
        {
          "output_type": "stream",
          "text": [
            "['FridayFun', 'Freebetgiveaway', 'Guess', 'the', 'Number', 'of', 'Free', 'Throws', 'Made', 'amp', 'Win', '3', 'Free', 'Bet', 'For', 'more', 'offers', 'https', 't', 'co', 'HVVNWiK6Hi']\n"
          ],
          "name": "stdout"
        }
      ]
    },
    {
      "cell_type": "code",
      "metadata": {
        "id": "PYphQjb4VgU2",
        "outputId": "f278215a-a97f-463f-eb85-0b9e854d13f2",
        "colab": {
          "base_uri": "https://localhost:8080/",
          "height": 54
        }
      },
      "source": [
        "space_tokenizer = RegexpTokenizer(\"\\s\",gaps=True)\n",
        "\n",
        "space_tokeni = []\n",
        "for tweet in all_tweets:\n",
        "  space_tokeni.append(space_tokenizer.tokenize(tweet))\n",
        "\n",
        "print(space_tokeni[0])"
      ],
      "execution_count": null,
      "outputs": [
        {
          "output_type": "stream",
          "text": [
            "['#FridayFun', '#Freebetgiveaway', 'Guess', 'the', 'Number', 'of', 'Free', 'Throws', 'Made', '🏀&amp;', 'Win', '€3', 'Free', 'Bet.', 'For', 'more', 'offers:…', 'https://t.co/HVVNWiK6Hi']\n"
          ],
          "name": "stdout"
        }
      ]
    }
  ]
}