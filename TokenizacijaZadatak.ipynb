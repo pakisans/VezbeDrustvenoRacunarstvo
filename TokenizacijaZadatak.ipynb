{
  "nbformat": 4,
  "nbformat_minor": 0,
  "metadata": {
    "colab": {
      "name": "Untitled4.ipynb",
      "provenance": [],
      "collapsed_sections": [],
      "authorship_tag": "ABX9TyOpoIh066XgPwUyv43KeNEq",
      "include_colab_link": true
    },
    "kernelspec": {
      "name": "python3",
      "display_name": "Python 3"
    }
  },
  "cells": [
    {
      "cell_type": "markdown",
      "metadata": {
        "id": "view-in-github",
        "colab_type": "text"
      },
      "source": [
        "<a href=\"https://colab.research.google.com/github/pakisans/VezbeDrustvenoRacunarstvo/blob/main/TokenizacijaZadatak.ipynb\" target=\"_parent\"><img src=\"https://colab.research.google.com/assets/colab-badge.svg\" alt=\"Open In Colab\"/></a>"
      ]
    },
    {
      "cell_type": "code",
      "metadata": {
        "id": "5aOyX_tPUTDm",
        "outputId": "aab09309-2012-4c08-8b88-4b97f53f4e22",
        "colab": {
          "base_uri": "https://localhost:8080/",
          "height": 68
        }
      },
      "source": [
        "import tweepy\n",
        "import numpy\n",
        "import scipy\n",
        "import matplotlib\n",
        "import pandas as pd\n",
        "import nltk\n",
        "from nltk.tokenize import word_tokenize,WordPunctTokenizer,RegexpTokenizer\n",
        "nltk.download('punkt')"
      ],
      "execution_count": null,
      "outputs": [
        {
          "output_type": "stream",
          "text": [
            "[nltk_data] Downloading package punkt to /root/nltk_data...\n",
            "[nltk_data]   Unzipping tokenizers/punkt.zip.\n"
          ],
          "name": "stdout"
        },
        {
          "output_type": "execute_result",
          "data": {
            "text/plain": [
              "True"
            ]
          },
          "metadata": {
            "tags": []
          },
          "execution_count": 9
        }
      ]
    },
    {
      "cell_type": "code",
      "metadata": {
        "id": "Mo08jUVHUWlC"
      },
      "source": [
        "CONSUMER_KEY = 'ugGxx01GJYQUxn0khPxwqpK1F'\n",
        "CONSUMER_SECRET = '5RWzld9NK7iBMd78W6hwzoaZDKtsomZTece0TUzVqHX0JAwyO2'\n",
        "DAUTH_TOKEN = '1311238497643233281-LIE5s4Y3bLhXJvXHaGHHM1IbBoerkY'\n",
        "DAUTH_TOKEN_SECRET = '6Hq9TG4W9smRGMx2TWxGejyMUFhdKO5EsRBphhkFKCs61'"
      ],
      "execution_count": null,
      "outputs": []
    },
    {
      "cell_type": "code",
      "metadata": {
        "id": "jR9WYGnvUa8t"
      },
      "source": [
        ""
      ],
      "execution_count": null,
      "outputs": []
    },
    {
      "cell_type": "code",
      "metadata": {
        "id": "QQcj-3bYUY8I"
      },
      "source": [
        "def auth_connection():\n",
        "  auth = tweepy.OAuthHandler(CONSUMER_KEY,CONSUMER_SECRET)\n",
        "  auth.set_access_token(DAUTH_TOKEN,DAUTH_TOKEN_SECRET)\n",
        "\n",
        "  api = tweepy.API(auth, wait_on_rate_limit = True)\n",
        "  return api"
      ],
      "execution_count": null,
      "outputs": []
    },
    {
      "cell_type": "code",
      "metadata": {
        "id": "iUDNXo5ZUcuI"
      },
      "source": [
        "api = auth_connection()"
      ],
      "execution_count": null,
      "outputs": []
    },
    {
      "cell_type": "code",
      "metadata": {
        "id": "h3H0thNHUeCI"
      },
      "source": [
        "query = \"#euroleague\"\n",
        "tweets = tweepy.Cursor(api.search,q=query,lang=\"en\",since='2020-09-23').items(10)\n",
        "\n",
        "all_tweets = [tweet.text for tweet in tweets]"
      ],
      "execution_count": null,
      "outputs": []
    },
    {
      "cell_type": "code",
      "metadata": {
        "id": "sFz9G-FNU9V9",
        "outputId": "d76d84e1-71fc-4dc6-ca6d-b1a7e4a4bf2f",
        "colab": {
          "base_uri": "https://localhost:8080/",
          "height": 54
        }
      },
      "source": [
        "tokeni = []\n",
        "for tweet in all_tweets:\n",
        "  tokeni.append(word_tokenize(tweet))\n",
        "\n",
        "print(tokeni[0])"
      ],
      "execution_count": null,
      "outputs": [
        {
          "output_type": "stream",
          "text": [
            "['#', 'FridayFun', '#', 'Freebetgiveaway', 'Guess', 'the', 'Number', 'of', 'Free', 'Throws', 'Made', '🏀', '&', 'amp', ';', 'Win', '€3', 'Free', 'Bet', '.', 'For', 'more', 'offers', ':', '…', 'https', ':', '//t.co/HVVNWiK6Hi']\n"
          ],
          "name": "stdout"
        }
      ]
    },
    {
      "cell_type": "code",
      "metadata": {
        "id": "FBX-AZlSVa2j",
        "outputId": "89540737-7a24-4463-bd7f-473bf5dc7819",
        "colab": {
          "base_uri": "https://localhost:8080/",
          "height": 54
        }
      },
      "source": [
        "punct_tokenizer = WordPunctTokenizer()\n",
        "\n",
        "punct_tokeni = []\n",
        "for tweet in all_tweets:\n",
        "  punct_tokeni.append(punct_tokenizer.tokenize(tweet))\n",
        "\n",
        "print(punct_tokeni[0])"
      ],
      "execution_count": null,
      "outputs": [
        {
          "output_type": "stream",
          "text": [
            "['#', 'FridayFun', '#', 'Freebetgiveaway', 'Guess', 'the', 'Number', 'of', 'Free', 'Throws', 'Made', '🏀&', 'amp', ';', 'Win', '€', '3', 'Free', 'Bet', '.', 'For', 'more', 'offers', ':…', 'https', '://', 't', '.', 'co', '/', 'HVVNWiK6Hi']\n"
          ],
          "name": "stdout"
        }
      ]
    },
    {
      "cell_type": "code",
      "metadata": {
        "id": "NYVDYsuBVcQ6",
        "outputId": "d4812f2a-2dce-4dcd-f02f-ec9715201387",
        "colab": {
          "base_uri": "https://localhost:8080/",
          "height": 54
        }
      },
      "source": [
        "re_tokenizer = RegexpTokenizer(\"[\\w]+\")\n",
        "re_tokeni = []\n",
        "for tweet in all_tweets:\n",
        "  re_tokeni.append(re_tokenizer.tokenize(tweet))\n",
        "print(re_tokeni[0])"
      ],
      "execution_count": null,
      "outputs": [
        {
          "output_type": "stream",
          "text": [
            "['FridayFun', 'Freebetgiveaway', 'Guess', 'the', 'Number', 'of', 'Free', 'Throws', 'Made', 'amp', 'Win', '3', 'Free', 'Bet', 'For', 'more', 'offers', 'https', 't', 'co', 'HVVNWiK6Hi']\n"
          ],
          "name": "stdout"
        }
      ]
    },
    {
      "cell_type": "code",
      "metadata": {
        "id": "EY7eIWKtXBKD"
      },
      "source": [
        ""
      ],
      "execution_count": null,
      "outputs": []
    },
    {
      "cell_type": "code",
      "metadata": {
        "id": "PYphQjb4VgU2",
        "outputId": "dc5199ec-a224-4ab6-8604-69c7e598840a",
        "colab": {
          "base_uri": "https://localhost:8080/",
          "height": 54
        }
      },
      "source": [
        "space_tokenizer = RegexpTokenizer(\"\\s\",gaps=True)\n",
        "\n",
        "space_tokeni = []\n",
        "for tweet in all_tweets:\n",
        "  space_tokeni.append(space_tokenizer.tokenize(tweet))\n",
        "\n",
        "print(space_tokeni[0])"
      ],
      "execution_count": 14,
      "outputs": [
        {
          "output_type": "stream",
          "text": [
            "['#FridayFun', '#Freebetgiveaway', 'Guess', 'the', 'Number', 'of', 'Free', 'Throws', 'Made', '🏀&amp;', 'Win', '€3', 'Free', 'Bet.', 'For', 'more', 'offers:…', 'https://t.co/HVVNWiK6Hi']\n"
          ],
          "name": "stdout"
        }
      ]
    },
    {
      "cell_type": "code",
      "metadata": {
        "id": "gc82H-hUXCC5"
      },
      "source": [
        "tokenizeri = {'word_tokenize':tokeni,\n",
        "              'WordPunctTokenize':punct_tokeni,\n",
        "              'RegexpTokenizerRec':re_tokeni,\n",
        "              'RegexpTokenizerSpace': space_tokeni}\n"
      ],
      "execution_count": 15,
      "outputs": []
    },
    {
      "cell_type": "code",
      "metadata": {
        "id": "pX2utNAdXz0M",
        "outputId": "141870a1-8d80-4f26-d5e1-bbba5947b767",
        "colab": {
          "base_uri": "https://localhost:8080/",
          "height": 597
        }
      },
      "source": [
        "pd.DataFrame(tokenizeri)"
      ],
      "execution_count": 16,
      "outputs": [
        {
          "output_type": "execute_result",
          "data": {
            "text/html": [
              "<div>\n",
              "<style scoped>\n",
              "    .dataframe tbody tr th:only-of-type {\n",
              "        vertical-align: middle;\n",
              "    }\n",
              "\n",
              "    .dataframe tbody tr th {\n",
              "        vertical-align: top;\n",
              "    }\n",
              "\n",
              "    .dataframe thead th {\n",
              "        text-align: right;\n",
              "    }\n",
              "</style>\n",
              "<table border=\"1\" class=\"dataframe\">\n",
              "  <thead>\n",
              "    <tr style=\"text-align: right;\">\n",
              "      <th></th>\n",
              "      <th>word_tokenize</th>\n",
              "      <th>WordPunctTokenize</th>\n",
              "      <th>RegexpTokenizerRec</th>\n",
              "      <th>RegexpTokenizerSpace</th>\n",
              "    </tr>\n",
              "  </thead>\n",
              "  <tbody>\n",
              "    <tr>\n",
              "      <th>0</th>\n",
              "      <td>[#, FridayFun, #, Freebetgiveaway, Guess, the,...</td>\n",
              "      <td>[#, FridayFun, #, Freebetgiveaway, Guess, the,...</td>\n",
              "      <td>[FridayFun, Freebetgiveaway, Guess, the, Numbe...</td>\n",
              "      <td>[#FridayFun, #Freebetgiveaway, Guess, the, Num...</td>\n",
              "    </tr>\n",
              "    <tr>\n",
              "      <th>1</th>\n",
              "      <td>[EuroLeague, Top, Plays, 10-2, #, EuroLeague, ...</td>\n",
              "      <td>[EuroLeague, Top, Plays, 10, -, 2, #, EuroLeag...</td>\n",
              "      <td>[EuroLeague, Top, Plays, 10, 2, EuroLeague, EL...</td>\n",
              "      <td>[EuroLeague, Top, Plays, 10-2, #EuroLeague, #E...</td>\n",
              "    </tr>\n",
              "    <tr>\n",
              "      <th>2</th>\n",
              "      <td>[RT, @, Eurohoopsnet, :, #, EuroLeague, Top, 1...</td>\n",
              "      <td>[RT, @, Eurohoopsnet, :, #, EuroLeague, Top, 1...</td>\n",
              "      <td>[RT, Eurohoopsnet, EuroLeague, Top, 100, playe...</td>\n",
              "      <td>[RT, @Eurohoopsnet:, #EuroLeague, Top, 100, pl...</td>\n",
              "    </tr>\n",
              "    <tr>\n",
              "      <th>3</th>\n",
              "      <td>[#, GAMEDAY, #, EuroLeagueIsBack, We, will, fa...</td>\n",
              "      <td>[#, GAMEDAY, #, EuroLeagueIsBack, We, will, fa...</td>\n",
              "      <td>[GAMEDAY, EuroLeagueIsBack, We, will, face, Ba...</td>\n",
              "      <td>[#GAMEDAY, #EuroLeagueIsBack, We, will, face, ...</td>\n",
              "    </tr>\n",
              "    <tr>\n",
              "      <th>4</th>\n",
              "      <td>[#, GAMEDAY, #, EuroLeagueIsBack, We, are, goi...</td>\n",
              "      <td>[#, GAMEDAY, #, EuroLeagueIsBack, We, are, goi...</td>\n",
              "      <td>[GAMEDAY, EuroLeagueIsBack, We, are, going, to...</td>\n",
              "      <td>[#GAMEDAY, #EuroLeagueIsBack, We, are, going, ...</td>\n",
              "    </tr>\n",
              "    <tr>\n",
              "      <th>5</th>\n",
              "      <td>[#, EuroLeague, Top, 100, players, of, 2020-21...</td>\n",
              "      <td>[#, EuroLeague, Top, 100, players, of, 2020, -...</td>\n",
              "      <td>[EuroLeague, Top, 100, players, of, 2020, 21, ...</td>\n",
              "      <td>[#EuroLeague, Top, 100, players, of, 2020-21, ...</td>\n",
              "    </tr>\n",
              "    <tr>\n",
              "      <th>6</th>\n",
              "      <td>[Basketball, is, back, !, #, euroleague, #, ab...</td>\n",
              "      <td>[Basketball, is, back, !, #, euroleague, #, ab...</td>\n",
              "      <td>[Basketball, is, back, euroleague, abaliga, kkcz]</td>\n",
              "      <td>[Basketball, is, back!, #euroleague, #abaliga,...</td>\n",
              "    </tr>\n",
              "    <tr>\n",
              "      <th>7</th>\n",
              "      <td>[#, EuroLeague, Top, 100, players, of, 2020-21...</td>\n",
              "      <td>[#, EuroLeague, Top, 100, players, of, 2020, -...</td>\n",
              "      <td>[EuroLeague, Top, 100, players, of, 2020, 21, ...</td>\n",
              "      <td>[#EuroLeague, Top, 100, players, of, 2020-21, ...</td>\n",
              "    </tr>\n",
              "    <tr>\n",
              "      <th>8</th>\n",
              "      <td>[#, EuroLeague, Top, 100, players, of, 2020-21...</td>\n",
              "      <td>[#, EuroLeague, Top, 100, players, of, 2020, -...</td>\n",
              "      <td>[EuroLeague, Top, 100, players, of, 2020, 21, ...</td>\n",
              "      <td>[#EuroLeague, Top, 100, players, of, 2020-21, ...</td>\n",
              "    </tr>\n",
              "    <tr>\n",
              "      <th>9</th>\n",
              "      <td>[@, EuroLeague, The, goat, from, coaches, ., #...</td>\n",
              "      <td>[@, EuroLeague, The, goat, from, coaches, ., #...</td>\n",
              "      <td>[EuroLeague, The, goat, from, coaches, Eurolea...</td>\n",
              "      <td>[@EuroLeague, The, goat, from, coaches., #Euro...</td>\n",
              "    </tr>\n",
              "  </tbody>\n",
              "</table>\n",
              "</div>"
            ],
            "text/plain": [
              "                                       word_tokenize  ...                               RegexpTokenizerSpace\n",
              "0  [#, FridayFun, #, Freebetgiveaway, Guess, the,...  ...  [#FridayFun, #Freebetgiveaway, Guess, the, Num...\n",
              "1  [EuroLeague, Top, Plays, 10-2, #, EuroLeague, ...  ...  [EuroLeague, Top, Plays, 10-2, #EuroLeague, #E...\n",
              "2  [RT, @, Eurohoopsnet, :, #, EuroLeague, Top, 1...  ...  [RT, @Eurohoopsnet:, #EuroLeague, Top, 100, pl...\n",
              "3  [#, GAMEDAY, #, EuroLeagueIsBack, We, will, fa...  ...  [#GAMEDAY, #EuroLeagueIsBack, We, will, face, ...\n",
              "4  [#, GAMEDAY, #, EuroLeagueIsBack, We, are, goi...  ...  [#GAMEDAY, #EuroLeagueIsBack, We, are, going, ...\n",
              "5  [#, EuroLeague, Top, 100, players, of, 2020-21...  ...  [#EuroLeague, Top, 100, players, of, 2020-21, ...\n",
              "6  [Basketball, is, back, !, #, euroleague, #, ab...  ...  [Basketball, is, back!, #euroleague, #abaliga,...\n",
              "7  [#, EuroLeague, Top, 100, players, of, 2020-21...  ...  [#EuroLeague, Top, 100, players, of, 2020-21, ...\n",
              "8  [#, EuroLeague, Top, 100, players, of, 2020-21...  ...  [#EuroLeague, Top, 100, players, of, 2020-21, ...\n",
              "9  [@, EuroLeague, The, goat, from, coaches, ., #...  ...  [@EuroLeague, The, goat, from, coaches., #Euro...\n",
              "\n",
              "[10 rows x 4 columns]"
            ]
          },
          "metadata": {
            "tags": []
          },
          "execution_count": 16
        }
      ]
    }
  ]
}